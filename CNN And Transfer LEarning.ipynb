{
 "cells": [
  {
   "cell_type": "markdown",
   "metadata": {},
   "source": [
    "## Creating CNN Using Scratch And Transfer Learning"
   ]
  },
  {
   "cell_type": "markdown",
   "metadata": {},
   "source": [
    "Please download the dataset from the below url"
   ]
  },
  {
   "cell_type": "code",
   "execution_count": 1,
   "metadata": {},
   "outputs": [],
   "source": [
    "# import the libraries as shown below\n",
    "\n",
    "from tensorflow.keras.layers import Input, Lambda, Dense, Flatten,Conv2D\n",
    "from tensorflow.keras.models import Model\n",
    "from tensorflow.keras.applications.vgg19 import VGG19\n",
    "from tensorflow.keras.applications.resnet50 import preprocess_input\n",
    "from tensorflow.keras.preprocessing import image\n",
    "from tensorflow.keras.preprocessing.image import ImageDataGenerator,load_img\n",
    "from tensorflow.keras.models import Sequential\n",
    "import numpy as np\n",
    "from glob import glob\n",
    "import matplotlib.pyplot as plt"
   ]
  },
  {
   "cell_type": "code",
   "execution_count": 2,
   "metadata": {},
   "outputs": [],
   "source": [
    "# re-size all the images to this\n",
    "IMAGE_SIZE = [224, 224]\n",
    "\n",
    "train_path = 'cell_images/Train'\n",
    "valid_path = 'cell_images/Test'\n"
   ]
  },
  {
   "cell_type": "code",
   "execution_count": 3,
   "metadata": {},
   "outputs": [
    {
     "name": "stdout",
     "output_type": "stream",
     "text": [
      "Downloading data from https://storage.googleapis.com/tensorflow/keras-applications/vgg19/vgg19_weights_tf_dim_ordering_tf_kernels_notop.h5\n",
      "80134624/80134624 [==============================] - 14s 0us/step\n"
     ]
    }
   ],
   "source": [
    "# Import the Vgg 16 library as shown below and add preprocessing layer to the front of VGG\n",
    "# Here we will be using imagenet weights\n",
    "\n",
    "mobilnet = VGG19(input_shape=IMAGE_SIZE + [3], weights='imagenet', include_top=False)\n",
    "\n",
    "\n"
   ]
  },
  {
   "cell_type": "code",
   "execution_count": 4,
   "metadata": {},
   "outputs": [],
   "source": [
    "# don't train existing weights\n",
    "for layer in mobilnet.layers:\n",
    "    layer.trainable = False"
   ]
  },
  {
   "cell_type": "code",
   "execution_count": 5,
   "metadata": {},
   "outputs": [],
   "source": [
    "  # useful for getting number of output classes\n",
    "folders = glob('Dataset/Train/*')"
   ]
  },
  {
   "cell_type": "code",
   "execution_count": 6,
   "metadata": {},
   "outputs": [
    {
     "data": {
      "text/plain": [
       "[]"
      ]
     },
     "execution_count": 6,
     "metadata": {},
     "output_type": "execute_result"
    }
   ],
   "source": [
    "folders"
   ]
  },
  {
   "cell_type": "code",
   "execution_count": 7,
   "metadata": {},
   "outputs": [],
   "source": [
    "# our layers - you can add more if you want\n",
    "x = Flatten()(mobilnet.output)"
   ]
  },
  {
   "cell_type": "code",
   "execution_count": 8,
   "metadata": {},
   "outputs": [],
   "source": [
    "prediction = Dense(len(folders), activation='softmax')(x)\n",
    "\n",
    "# create a model object\n",
    "model = Model(inputs=mobilnet.input, outputs=prediction)"
   ]
  },
  {
   "cell_type": "code",
   "execution_count": 9,
   "metadata": {},
   "outputs": [
    {
     "name": "stdout",
     "output_type": "stream",
     "text": [
      "Model: \"model\"\n",
      "_________________________________________________________________\n",
      " Layer (type)                Output Shape              Param #   \n",
      "=================================================================\n",
      " input_1 (InputLayer)        [(None, 224, 224, 3)]     0         \n",
      "                                                                 \n",
      " block1_conv1 (Conv2D)       (None, 224, 224, 64)      1792      \n",
      "                                                                 \n",
      " block1_conv2 (Conv2D)       (None, 224, 224, 64)      36928     \n",
      "                                                                 \n",
      " block1_pool (MaxPooling2D)  (None, 112, 112, 64)      0         \n",
      "                                                                 \n",
      " block2_conv1 (Conv2D)       (None, 112, 112, 128)     73856     \n",
      "                                                                 \n",
      " block2_conv2 (Conv2D)       (None, 112, 112, 128)     147584    \n",
      "                                                                 \n",
      " block2_pool (MaxPooling2D)  (None, 56, 56, 128)       0         \n",
      "                                                                 \n",
      " block3_conv1 (Conv2D)       (None, 56, 56, 256)       295168    \n",
      "                                                                 \n",
      " block3_conv2 (Conv2D)       (None, 56, 56, 256)       590080    \n",
      "                                                                 \n",
      " block3_conv3 (Conv2D)       (None, 56, 56, 256)       590080    \n",
      "                                                                 \n",
      " block3_conv4 (Conv2D)       (None, 56, 56, 256)       590080    \n",
      "                                                                 \n",
      " block3_pool (MaxPooling2D)  (None, 28, 28, 256)       0         \n",
      "                                                                 \n",
      " block4_conv1 (Conv2D)       (None, 28, 28, 512)       1180160   \n",
      "                                                                 \n",
      " block4_conv2 (Conv2D)       (None, 28, 28, 512)       2359808   \n",
      "                                                                 \n",
      " block4_conv3 (Conv2D)       (None, 28, 28, 512)       2359808   \n",
      "                                                                 \n",
      " block4_conv4 (Conv2D)       (None, 28, 28, 512)       2359808   \n",
      "                                                                 \n",
      " block4_pool (MaxPooling2D)  (None, 14, 14, 512)       0         \n",
      "                                                                 \n",
      " block5_conv1 (Conv2D)       (None, 14, 14, 512)       2359808   \n",
      "                                                                 \n",
      " block5_conv2 (Conv2D)       (None, 14, 14, 512)       2359808   \n",
      "                                                                 \n",
      " block5_conv3 (Conv2D)       (None, 14, 14, 512)       2359808   \n",
      "                                                                 \n",
      " block5_conv4 (Conv2D)       (None, 14, 14, 512)       2359808   \n",
      "                                                                 \n",
      " block5_pool (MaxPooling2D)  (None, 7, 7, 512)         0         \n",
      "                                                                 \n",
      " flatten (Flatten)           (None, 25088)             0         \n",
      "                                                                 \n",
      " dense (Dense)               (None, 0)                 0         \n",
      "                                                                 \n",
      "=================================================================\n",
      "Total params: 20024384 (76.39 MB)\n",
      "Trainable params: 0 (0.00 Byte)\n",
      "Non-trainable params: 20024384 (76.39 MB)\n",
      "_________________________________________________________________\n"
     ]
    }
   ],
   "source": [
    "\n",
    "# view the structure of the model\n",
    "model.summary()\n"
   ]
  },
  {
   "cell_type": "code",
   "execution_count": 10,
   "metadata": {},
   "outputs": [],
   "source": [
    "from tensorflow.keras.layers import MaxPooling2D"
   ]
  },
  {
   "cell_type": "code",
   "execution_count": 11,
   "metadata": {},
   "outputs": [
    {
     "name": "stdout",
     "output_type": "stream",
     "text": [
      "Model: \"sequential\"\n",
      "_________________________________________________________________\n",
      " Layer (type)                Output Shape              Param #   \n",
      "=================================================================\n",
      " conv2d (Conv2D)             (None, 224, 224, 16)      208       \n",
      "                                                                 \n",
      " max_pooling2d (MaxPooling2  (None, 112, 112, 16)      0         \n",
      " D)                                                              \n",
      "                                                                 \n",
      " conv2d_1 (Conv2D)           (None, 112, 112, 32)      2080      \n",
      "                                                                 \n",
      " max_pooling2d_1 (MaxPoolin  (None, 56, 56, 32)        0         \n",
      " g2D)                                                            \n",
      "                                                                 \n",
      " conv2d_2 (Conv2D)           (None, 56, 56, 64)        8256      \n",
      "                                                                 \n",
      " max_pooling2d_2 (MaxPoolin  (None, 28, 28, 64)        0         \n",
      " g2D)                                                            \n",
      "                                                                 \n",
      " flatten_1 (Flatten)         (None, 50176)             0         \n",
      "                                                                 \n",
      " dense_1 (Dense)             (None, 500)               25088500  \n",
      "                                                                 \n",
      " dense_2 (Dense)             (None, 2)                 1002      \n",
      "                                                                 \n",
      "=================================================================\n",
      "Total params: 25100046 (95.75 MB)\n",
      "Trainable params: 25100046 (95.75 MB)\n",
      "Non-trainable params: 0 (0.00 Byte)\n",
      "_________________________________________________________________\n"
     ]
    }
   ],
   "source": [
    "### Create Model from scratch using CNN\n",
    "model=Sequential()\n",
    "model.add(Conv2D(filters=16,kernel_size=2,padding=\"same\",activation=\"relu\",input_shape=(224,224,3)))\n",
    "model.add(MaxPooling2D(pool_size=2))\n",
    "model.add(Conv2D(filters=32,kernel_size=2,padding=\"same\",activation =\"relu\"))\n",
    "model.add(MaxPooling2D(pool_size=2))\n",
    "model.add(Conv2D(filters=64,kernel_size=2,padding=\"same\",activation=\"relu\"))\n",
    "model.add(MaxPooling2D(pool_size=2))\n",
    "model.add(Flatten())\n",
    "model.add(Dense(500,activation=\"relu\"))\n",
    "model.add(Dense(2,activation=\"softmax\"))\n",
    "model.summary()"
   ]
  },
  {
   "cell_type": "code",
   "execution_count": 12,
   "metadata": {},
   "outputs": [],
   "source": [
    "# tell the model what cost and optimization method to use\n",
    "model.compile(\n",
    "  loss='categorical_crossentropy',\n",
    "  optimizer='adam',\n",
    "  metrics=['accuracy']\n",
    ")\n"
   ]
  },
  {
   "cell_type": "code",
   "execution_count": 13,
   "metadata": {},
   "outputs": [],
   "source": [
    "# Use the Image Data Generator to import the images from the dataset\n",
    "from tensorflow.keras.preprocessing.image import ImageDataGenerator\n",
    "\n",
    "train_datagen = ImageDataGenerator(rescale = 1./255,\n",
    "                                   shear_range = 0.2,\n",
    "                                   zoom_range = 0.2,\n",
    "                                   horizontal_flip = True)\n",
    "\n",
    "test_datagen = ImageDataGenerator(rescale = 1./255)"
   ]
  },
  {
   "cell_type": "code",
   "execution_count": 19,
   "metadata": {},
   "outputs": [
    {
     "name": "stdout",
     "output_type": "stream",
     "text": [
      "Found 416 images belonging to 2 classes.\n"
     ]
    }
   ],
   "source": [
    "# Make sure you provide the same target size as initialied for the image size\n",
    "training_set = train_datagen.flow_from_directory('/Users/bharataameriya/Downloads/Malaria-Detection-master/Dataset/Train',\n",
    "                                                 target_size = (224, 224),\n",
    "                                                 batch_size = 32,\n",
    "                                                 class_mode = 'categorical')"
   ]
  },
  {
   "cell_type": "code",
   "execution_count": 20,
   "metadata": {},
   "outputs": [
    {
     "data": {
      "text/plain": [
       "<keras.src.preprocessing.image.DirectoryIterator at 0x28ce86ed0>"
      ]
     },
     "execution_count": 20,
     "metadata": {},
     "output_type": "execute_result"
    }
   ],
   "source": [
    "training_set"
   ]
  },
  {
   "cell_type": "code",
   "execution_count": 15,
   "metadata": {},
   "outputs": [
    {
     "name": "stdout",
     "output_type": "stream",
     "text": [
      "Found 134 images belonging to 2 classes.\n"
     ]
    }
   ],
   "source": [
    "test_set = test_datagen.flow_from_directory('/Users/bharataameriya/Downloads/Malaria-Detection-master/Dataset/test',\n",
    "                                            target_size = (224, 224),\n",
    "                                            batch_size = 32,\n",
    "                                            class_mode = 'categorical')"
   ]
  },
  {
   "cell_type": "code",
   "execution_count": 21,
   "metadata": {
    "scrolled": true
   },
   "outputs": [
    {
     "name": "stderr",
     "output_type": "stream",
     "text": [
      "/var/folders/d_/xz_mnyt5317g62crvjh6x5v80000gn/T/ipykernel_4603/4102162479.py:3: UserWarning: `Model.fit_generator` is deprecated and will be removed in a future version. Please use `Model.fit`, which supports generators.\n",
      "  r = model.fit_generator(\n"
     ]
    },
    {
     "name": "stdout",
     "output_type": "stream",
     "text": [
      "Epoch 1/50\n",
      "13/13 [==============================] - 7s 481ms/step - loss: 1.5298 - accuracy: 0.5120 - val_loss: 0.6524 - val_accuracy: 0.6791\n",
      "Epoch 2/50\n",
      "13/13 [==============================] - 7s 494ms/step - loss: 0.6756 - accuracy: 0.5938 - val_loss: 0.7027 - val_accuracy: 0.4254\n",
      "Epoch 3/50\n",
      "13/13 [==============================] - 6s 468ms/step - loss: 0.6481 - accuracy: 0.6635 - val_loss: 0.6754 - val_accuracy: 0.6716\n",
      "Epoch 4/50\n",
      "13/13 [==============================] - 6s 455ms/step - loss: 0.5850 - accuracy: 0.6995 - val_loss: 0.7178 - val_accuracy: 0.5299\n",
      "Epoch 5/50\n",
      "13/13 [==============================] - 6s 487ms/step - loss: 0.6266 - accuracy: 0.6322 - val_loss: 0.8014 - val_accuracy: 0.3358\n",
      "Epoch 6/50\n",
      "13/13 [==============================] - 6s 457ms/step - loss: 0.5337 - accuracy: 0.7476 - val_loss: 0.7385 - val_accuracy: 0.5224\n",
      "Epoch 7/50\n",
      "13/13 [==============================] - 6s 460ms/step - loss: 0.5064 - accuracy: 0.7308 - val_loss: 0.9691 - val_accuracy: 0.3731\n",
      "Epoch 8/50\n",
      "13/13 [==============================] - 7s 511ms/step - loss: 0.4546 - accuracy: 0.7524 - val_loss: 0.8597 - val_accuracy: 0.4328\n",
      "Epoch 9/50\n",
      "13/13 [==============================] - 6s 455ms/step - loss: 0.4110 - accuracy: 0.8029 - val_loss: 0.8582 - val_accuracy: 0.4403\n",
      "Epoch 10/50\n",
      "13/13 [==============================] - 6s 460ms/step - loss: 0.4189 - accuracy: 0.7837 - val_loss: 0.6304 - val_accuracy: 0.5970\n",
      "Epoch 11/50\n",
      "13/13 [==============================] - 6s 459ms/step - loss: 0.4400 - accuracy: 0.7764 - val_loss: 0.6825 - val_accuracy: 0.5821\n",
      "Epoch 12/50\n",
      "13/13 [==============================] - 6s 457ms/step - loss: 0.3543 - accuracy: 0.8438 - val_loss: 0.7544 - val_accuracy: 0.5149\n",
      "Epoch 13/50\n",
      "13/13 [==============================] - 6s 461ms/step - loss: 0.3353 - accuracy: 0.8510 - val_loss: 0.6057 - val_accuracy: 0.6194\n",
      "Epoch 14/50\n",
      "13/13 [==============================] - 6s 459ms/step - loss: 0.3349 - accuracy: 0.8606 - val_loss: 0.5977 - val_accuracy: 0.6567\n",
      "Epoch 15/50\n",
      "13/13 [==============================] - 6s 456ms/step - loss: 0.2844 - accuracy: 0.8942 - val_loss: 0.6452 - val_accuracy: 0.6194\n",
      "Epoch 16/50\n",
      "13/13 [==============================] - 6s 458ms/step - loss: 0.2783 - accuracy: 0.8894 - val_loss: 0.4460 - val_accuracy: 0.7910\n",
      "Epoch 17/50\n",
      "13/13 [==============================] - 6s 463ms/step - loss: 0.2370 - accuracy: 0.9062 - val_loss: 0.4520 - val_accuracy: 0.7612\n",
      "Epoch 18/50\n",
      "13/13 [==============================] - 6s 467ms/step - loss: 0.1878 - accuracy: 0.9327 - val_loss: 0.3843 - val_accuracy: 0.8209\n",
      "Epoch 19/50\n",
      "13/13 [==============================] - 6s 478ms/step - loss: 0.1724 - accuracy: 0.9279 - val_loss: 0.4436 - val_accuracy: 0.7164\n",
      "Epoch 20/50\n",
      "13/13 [==============================] - 6s 461ms/step - loss: 0.1513 - accuracy: 0.9399 - val_loss: 0.2857 - val_accuracy: 0.8955\n",
      "Epoch 21/50\n",
      "13/13 [==============================] - 6s 459ms/step - loss: 0.2026 - accuracy: 0.9375 - val_loss: 1.2545 - val_accuracy: 0.7164\n",
      "Epoch 22/50\n",
      "13/13 [==============================] - 6s 458ms/step - loss: 0.1606 - accuracy: 0.9495 - val_loss: 0.3226 - val_accuracy: 0.8881\n",
      "Epoch 23/50\n",
      "13/13 [==============================] - 6s 461ms/step - loss: 0.1119 - accuracy: 0.9543 - val_loss: 0.2524 - val_accuracy: 0.9030\n",
      "Epoch 24/50\n",
      "13/13 [==============================] - 6s 461ms/step - loss: 0.0990 - accuracy: 0.9736 - val_loss: 0.2032 - val_accuracy: 0.9328\n",
      "Epoch 25/50\n",
      "13/13 [==============================] - 6s 461ms/step - loss: 0.0893 - accuracy: 0.9688 - val_loss: 0.2365 - val_accuracy: 0.9030\n",
      "Epoch 26/50\n",
      "13/13 [==============================] - 6s 460ms/step - loss: 0.1081 - accuracy: 0.9639 - val_loss: 0.3682 - val_accuracy: 0.8209\n",
      "Epoch 27/50\n",
      "13/13 [==============================] - 6s 462ms/step - loss: 0.1121 - accuracy: 0.9712 - val_loss: 0.2932 - val_accuracy: 0.8582\n",
      "Epoch 28/50\n",
      "13/13 [==============================] - 6s 464ms/step - loss: 0.0982 - accuracy: 0.9615 - val_loss: 0.3466 - val_accuracy: 0.8358\n",
      "Epoch 29/50\n",
      "13/13 [==============================] - 6s 461ms/step - loss: 0.1256 - accuracy: 0.9591 - val_loss: 0.2129 - val_accuracy: 0.9179\n",
      "Epoch 30/50\n",
      "13/13 [==============================] - 6s 462ms/step - loss: 0.0922 - accuracy: 0.9712 - val_loss: 0.1985 - val_accuracy: 0.9030\n",
      "Epoch 31/50\n",
      "13/13 [==============================] - 6s 463ms/step - loss: 0.0870 - accuracy: 0.9760 - val_loss: 0.3194 - val_accuracy: 0.8507\n",
      "Epoch 32/50\n",
      "13/13 [==============================] - 6s 461ms/step - loss: 0.1130 - accuracy: 0.9567 - val_loss: 0.2496 - val_accuracy: 0.8657\n",
      "Epoch 33/50\n",
      "13/13 [==============================] - 6s 465ms/step - loss: 0.0710 - accuracy: 0.9760 - val_loss: 0.1392 - val_accuracy: 0.9328\n",
      "Epoch 34/50\n",
      "13/13 [==============================] - 6s 463ms/step - loss: 0.0580 - accuracy: 0.9784 - val_loss: 0.2653 - val_accuracy: 0.9328\n",
      "Epoch 35/50\n",
      "13/13 [==============================] - 6s 463ms/step - loss: 0.0872 - accuracy: 0.9688 - val_loss: 0.2393 - val_accuracy: 0.9328\n",
      "Epoch 36/50\n",
      "13/13 [==============================] - 6s 465ms/step - loss: 0.0873 - accuracy: 0.9760 - val_loss: 0.2204 - val_accuracy: 0.9104\n",
      "Epoch 37/50\n",
      "13/13 [==============================] - 6s 463ms/step - loss: 0.0577 - accuracy: 0.9880 - val_loss: 0.2358 - val_accuracy: 0.9030\n",
      "Epoch 38/50\n",
      "13/13 [==============================] - 6s 461ms/step - loss: 0.0573 - accuracy: 0.9832 - val_loss: 0.1438 - val_accuracy: 0.9552\n",
      "Epoch 39/50\n",
      "13/13 [==============================] - 7s 515ms/step - loss: 0.0661 - accuracy: 0.9808 - val_loss: 0.1723 - val_accuracy: 0.9403\n",
      "Epoch 40/50\n",
      "13/13 [==============================] - 6s 478ms/step - loss: 0.0521 - accuracy: 0.9856 - val_loss: 0.1633 - val_accuracy: 0.9254\n",
      "Epoch 41/50\n",
      "13/13 [==============================] - 6s 466ms/step - loss: 0.0773 - accuracy: 0.9712 - val_loss: 0.2240 - val_accuracy: 0.9030\n",
      "Epoch 42/50\n",
      "13/13 [==============================] - 6s 468ms/step - loss: 0.0640 - accuracy: 0.9808 - val_loss: 0.1747 - val_accuracy: 0.9328\n",
      "Epoch 43/50\n",
      "13/13 [==============================] - 6s 473ms/step - loss: 0.0666 - accuracy: 0.9760 - val_loss: 0.2235 - val_accuracy: 0.9254\n",
      "Epoch 44/50\n",
      "13/13 [==============================] - 6s 471ms/step - loss: 0.0610 - accuracy: 0.9784 - val_loss: 0.1933 - val_accuracy: 0.9478\n",
      "Epoch 45/50\n",
      "13/13 [==============================] - 6s 475ms/step - loss: 0.0290 - accuracy: 0.9952 - val_loss: 0.1905 - val_accuracy: 0.9478\n",
      "Epoch 46/50\n",
      "13/13 [==============================] - 6s 463ms/step - loss: 0.0447 - accuracy: 0.9856 - val_loss: 0.2441 - val_accuracy: 0.9179\n",
      "Epoch 47/50\n",
      "13/13 [==============================] - 6s 467ms/step - loss: 0.0833 - accuracy: 0.9712 - val_loss: 0.2297 - val_accuracy: 0.9030\n",
      "Epoch 48/50\n",
      "13/13 [==============================] - 6s 464ms/step - loss: 0.0556 - accuracy: 0.9784 - val_loss: 0.1362 - val_accuracy: 0.9478\n",
      "Epoch 49/50\n",
      "13/13 [==============================] - 6s 466ms/step - loss: 0.0367 - accuracy: 0.9904 - val_loss: 0.1840 - val_accuracy: 0.9552\n",
      "Epoch 50/50\n",
      "13/13 [==============================] - 6s 466ms/step - loss: 0.0506 - accuracy: 0.9832 - val_loss: 0.3595 - val_accuracy: 0.8806\n"
     ]
    }
   ],
   "source": [
    "# fit the model\n",
    "# Run the cell. It will take some time to execute\n",
    "r = model.fit_generator(\n",
    "  training_set,\n",
    "  validation_data=test_set,\n",
    "  epochs=50,\n",
    "  steps_per_epoch=len(training_set),\n",
    "  validation_steps=len(test_set)\n",
    ")"
   ]
  },
  {
   "cell_type": "code",
   "execution_count": 22,
   "metadata": {},
   "outputs": [
    {
     "data": {
      "image/png": "[encoded data removed]",
      "text/plain": [
       "<Figure size 640x480 with 1 Axes>"
      ]
     },
     "metadata": {},
     "output_type": "display_data"
    },
    {
     "data": {
      "image/png": "[encoded data removed]",
      "text/plain": [
       "<Figure size 640x480 with 1 Axes>"
      ]
     },
     "metadata": {},
     "output_type": "display_data"
    },
    {
     "data": {
      "text/plain": [
       "<Figure size 640x480 with 0 Axes>"
      ]
     },
     "metadata": {},
     "output_type": "display_data"
    }
   ],
   "source": [
    "# plot the loss\n",
    "plt.plot(r.history['loss'], label='train loss')\n",
    "plt.plot(r.history['val_loss'], label='val loss')\n",
    "plt.legend()\n",
    "plt.show()\n",
    "plt.savefig('LossVal_loss')\n",
    "\n",
    "# plot the accuracy\n",
    "plt.plot(r.history['accuracy'], label='train acc')\n",
    "plt.plot(r.history['val_accuracy'], label='val acc')\n",
    "plt.legend()\n",
    "plt.show()\n",
    "plt.savefig('AccVal_acc')"
   ]
  },
  {
   "cell_type": "code",
   "execution_count": 23,
   "metadata": {},
   "outputs": [
    {
     "name": "stderr",
     "output_type": "stream",
     "text": [
      "/Users/bharataameriya/anaconda3/lib/python3.11/site-packages/keras/src/engine/training.py:3103: UserWarning: You are saving your model as an HDF5 file via `model.save()`. This file format is considered legacy. We recommend using instead the native Keras format, e.g. `model.save('my_model.keras')`.\n",
      "  saving_api.save_model(\n"
     ]
    }
   ],
   "source": [
    "# save it as a h5 file\n",
    "\n",
    "\n",
    "from tensorflow.keras.models import load_model\n",
    "\n",
    "model.save('model_vgg19.h5')"
   ]
  },
  {
   "cell_type": "code",
   "execution_count": 24,
   "metadata": {},
   "outputs": [
    {
     "name": "stdout",
     "output_type": "stream",
     "text": [
      "5/5 [==============================] - 1s 94ms/step\n"
     ]
    }
   ],
   "source": [
    "\n",
    "y_pred = model.predict(test_set)\n"
   ]
  },
  {
   "cell_type": "code",
   "execution_count": 25,
   "metadata": {},
   "outputs": [
    {
     "data": {
      "text/plain": [
       "array([[1.94301864e-03, 9.98056948e-01],\n",
       "       [1.00000000e+00, 3.61807206e-09],\n",
       "       [8.03472549e-02, 9.19652760e-01],\n",
       "       [3.69321089e-03, 9.96306777e-01],\n",
       "       [1.00000000e+00, 2.15879628e-14],\n",
       "       [3.79889947e-03, 9.96201098e-01],\n",
       "       [7.90125579e-02, 9.20987487e-01],\n",
       "       [2.66007148e-03, 9.97339904e-01],\n",
       "       [1.00000000e+00, 3.64841091e-09],\n",
       "       [9.99949694e-01, 5.03072915e-05],\n",
       "       [1.00000000e+00, 1.88418614e-10],\n",
       "       [5.66336632e-01, 4.33663398e-01],\n",
       "       [1.00000000e+00, 1.52607154e-08],\n",
       "       [2.81028654e-02, 9.71897066e-01],\n",
       "       [1.00000000e+00, 2.44542209e-09],\n",
       "       [4.89722192e-03, 9.95102763e-01],\n",
       "       [9.99999762e-01, 1.79971693e-07],\n",
       "       [5.00294566e-02, 9.49970603e-01],\n",
       "       [1.00000000e+00, 1.08083117e-11],\n",
       "       [9.57314849e-01, 4.26852331e-02],\n",
       "       [9.86936510e-01, 1.30634420e-02],\n",
       "       [5.64658344e-01, 4.35341656e-01],\n",
       "       [1.00000000e+00, 1.30765548e-12],\n",
       "       [1.36530423e-03, 9.98634636e-01],\n",
       "       [1.01917994e-03, 9.98980820e-01],\n",
       "       [1.35502322e-02, 9.86449778e-01],\n",
       "       [1.00000000e+00, 6.62579505e-11],\n",
       "       [1.00000000e+00, 7.44592571e-16],\n",
       "       [9.99998927e-01, 1.03451066e-06],\n",
       "       [9.99998331e-01, 1.69059854e-06],\n",
       "       [3.89604032e-01, 6.10395968e-01],\n",
       "       [3.31213023e-03, 9.96687949e-01],\n",
       "       [2.86974874e-03, 9.97130334e-01],\n",
       "       [2.37252587e-03, 9.97627437e-01],\n",
       "       [1.00000000e+00, 1.34894818e-09],\n",
       "       [9.01104417e-03, 9.90989029e-01],\n",
       "       [3.24459234e-03, 9.96755421e-01],\n",
       "       [2.39954074e-03, 9.97600496e-01],\n",
       "       [1.04928424e-03, 9.98950720e-01],\n",
       "       [1.00000000e+00, 3.93208507e-25],\n",
       "       [9.99938011e-01, 6.19706625e-05],\n",
       "       [2.35033676e-01, 7.64966369e-01],\n",
       "       [1.00000000e+00, 1.16568966e-22],\n",
       "       [1.00000000e+00, 9.63518555e-25],\n",
       "       [1.00000000e+00, 4.51651867e-12],\n",
       "       [8.56833681e-02, 9.14316595e-01],\n",
       "       [1.00000000e+00, 9.82335555e-16],\n",
       "       [3.68123967e-03, 9.96318698e-01],\n",
       "       [9.99558151e-01, 4.41847893e-04],\n",
       "       [5.80140911e-02, 9.41985905e-01],\n",
       "       [1.53323461e-03, 9.98466790e-01],\n",
       "       [9.99993324e-01, 6.69541078e-06],\n",
       "       [1.45326369e-02, 9.85467434e-01],\n",
       "       [1.07868668e-02, 9.89213049e-01],\n",
       "       [9.75386739e-01, 2.46132240e-02],\n",
       "       [2.44753133e-03, 9.97552454e-01],\n",
       "       [9.99998331e-01, 1.62073343e-06],\n",
       "       [9.98947918e-01, 1.05213060e-03],\n",
       "       [1.00000000e+00, 1.43547588e-14],\n",
       "       [9.99970794e-01, 2.92559398e-05],\n",
       "       [9.99927640e-01, 7.24003621e-05],\n",
       "       [2.21834052e-03, 9.97781694e-01],\n",
       "       [1.69203023e-03, 9.98307943e-01],\n",
       "       [6.63405471e-03, 9.93365943e-01],\n",
       "       [1.00000000e+00, 1.12901892e-08],\n",
       "       [9.99995112e-01, 4.83530675e-06],\n",
       "       [1.00000000e+00, 3.45448505e-08],\n",
       "       [9.99720156e-01, 2.79871892e-04],\n",
       "       [8.82461071e-01, 1.17538884e-01],\n",
       "       [2.92737961e-01, 7.07262039e-01],\n",
       "       [6.30968949e-03, 9.93690252e-01],\n",
       "       [1.00000000e+00, 1.02145804e-18],\n",
       "       [9.98943388e-01, 1.05662446e-03],\n",
       "       [1.00000000e+00, 9.50152161e-14],\n",
       "       [2.99266097e-03, 9.97007310e-01],\n",
       "       [9.99959469e-01, 4.05594801e-05],\n",
       "       [1.00000000e+00, 1.85077953e-10],\n",
       "       [4.98800119e-03, 9.95012045e-01],\n",
       "       [9.99873519e-01, 1.26416329e-04],\n",
       "       [1.66130054e-03, 9.98338699e-01],\n",
       "       [9.99690294e-01, 3.09738185e-04],\n",
       "       [5.46897005e-04, 9.99453127e-01],\n",
       "       [9.81270194e-01, 1.87297799e-02],\n",
       "       [3.07792611e-02, 9.69220698e-01],\n",
       "       [2.46646442e-03, 9.97533560e-01],\n",
       "       [9.99985814e-01, 1.41962109e-05],\n",
       "       [1.00000000e+00, 1.28393687e-08],\n",
       "       [9.99997854e-01, 2.12028863e-06],\n",
       "       [2.11197790e-03, 9.97888029e-01],\n",
       "       [1.00000000e+00, 1.31206056e-30],\n",
       "       [9.95367646e-01, 4.63231420e-03],\n",
       "       [9.78766203e-01, 2.12337300e-02],\n",
       "       [6.68881042e-03, 9.93311167e-01],\n",
       "       [9.99840736e-01, 1.59224204e-04],\n",
       "       [9.63055909e-01, 3.69440392e-02],\n",
       "       [1.99600309e-03, 9.98004019e-01],\n",
       "       [1.50092971e-02, 9.84990656e-01],\n",
       "       [3.48975137e-03, 9.96510208e-01],\n",
       "       [2.18694936e-03, 9.97812986e-01],\n",
       "       [1.26062264e-03, 9.98739421e-01],\n",
       "       [1.43319916e-03, 9.98566806e-01],\n",
       "       [9.99925733e-01, 7.43200653e-05],\n",
       "       [2.49397452e-03, 9.97506082e-01],\n",
       "       [4.84615475e-01, 5.15384495e-01],\n",
       "       [5.45614958e-01, 4.54385102e-01],\n",
       "       [1.00000000e+00, 7.82372268e-13],\n",
       "       [1.52461650e-03, 9.98475373e-01],\n",
       "       [9.99979615e-01, 2.03872023e-05],\n",
       "       [6.80728912e-01, 3.19271088e-01],\n",
       "       [1.75663666e-03, 9.98243332e-01],\n",
       "       [3.17468937e-03, 9.96825337e-01],\n",
       "       [9.99992371e-01, 7.58970918e-06],\n",
       "       [1.00000000e+00, 1.86198821e-19],\n",
       "       [1.59706746e-03, 9.98402894e-01],\n",
       "       [1.00000000e+00, 9.17660392e-12],\n",
       "       [1.00000000e+00, 7.82308083e-13],\n",
       "       [9.99956608e-01, 4.34410795e-05],\n",
       "       [3.35760325e-01, 6.64239645e-01],\n",
       "       [9.99982953e-01, 1.70067215e-05],\n",
       "       [9.97733951e-01, 2.26601399e-03],\n",
       "       [9.99924421e-01, 7.55750516e-05],\n",
       "       [5.59229823e-03, 9.94407773e-01],\n",
       "       [7.09926784e-02, 9.29007292e-01],\n",
       "       [1.00000000e+00, 1.17139609e-21],\n",
       "       [4.15330380e-03, 9.95846689e-01],\n",
       "       [9.99999523e-01, 5.31946739e-07],\n",
       "       [3.82133480e-03, 9.96178627e-01],\n",
       "       [9.98220861e-01, 1.77918246e-03],\n",
       "       [1.00000000e+00, 2.33491160e-09],\n",
       "       [9.99998689e-01, 1.36856022e-06],\n",
       "       [9.90947247e-01, 9.05283075e-03],\n",
       "       [1.00000000e+00, 4.52158003e-15],\n",
       "       [1.00000000e+00, 9.52289581e-10],\n",
       "       [5.06779179e-04, 9.99493241e-01]], dtype=float32)"
      ]
     },
     "execution_count": 25,
     "metadata": {},
     "output_type": "execute_result"
    }
   ],
   "source": [
    "y_pred"
   ]
  },
  {
   "cell_type": "code",
   "execution_count": 26,
   "metadata": {},
   "outputs": [],
   "source": [
    "import numpy as np\n",
    "y_pred = np.argmax(y_pred, axis=1)"
   ]
  },
  {
   "cell_type": "code",
   "execution_count": 27,
   "metadata": {},
   "outputs": [
    {
     "data": {
      "text/plain": [
       "array([1, 0, 1, 1, 0, 1, 1, 1, 0, 0, 0, 0, 0, 1, 0, 1, 0, 1, 0, 0, 0, 0,\n",
       "       0, 1, 1, 1, 0, 0, 0, 0, 1, 1, 1, 1, 0, 1, 1, 1, 1, 0, 0, 1, 0, 0,\n",
       "       0, 1, 0, 1, 0, 1, 1, 0, 1, 1, 0, 1, 0, 0, 0, 0, 0, 1, 1, 1, 0, 0,\n",
       "       0, 0, 0, 1, 1, 0, 0, 0, 1, 0, 0, 1, 0, 1, 0, 1, 0, 1, 1, 0, 0, 0,\n",
       "       1, 0, 0, 0, 1, 0, 0, 1, 1, 1, 1, 1, 1, 0, 1, 1, 0, 0, 1, 0, 0, 1,\n",
       "       1, 0, 0, 1, 0, 0, 0, 1, 0, 0, 0, 1, 1, 0, 1, 0, 1, 0, 0, 0, 0, 0,\n",
       "       0, 1])"
      ]
     },
     "execution_count": 27,
     "metadata": {},
     "output_type": "execute_result"
    }
   ],
   "source": [
    "y_pred"
   ]
  },
  {
   "cell_type": "code",
   "execution_count": 28,
   "metadata": {},
   "outputs": [],
   "source": [
    "from tensorflow.keras.models import load_model\n",
    "from tensorflow.keras.preprocessing import image"
   ]
  },
  {
   "cell_type": "code",
   "execution_count": 29,
   "metadata": {},
   "outputs": [],
   "source": [
    "model=load_model('model_vgg19.h5')"
   ]
  },
  {
   "cell_type": "code",
   "execution_count": 30,
   "metadata": {},
   "outputs": [],
   "source": [
    "img=image.load_img('Dataset/Test/Uninfected/2.png',target_size=(224,224))\n",
    "\n"
   ]
  },
  {
   "cell_type": "code",
   "execution_count": 31,
   "metadata": {},
   "outputs": [
    {
     "data": {
      "text/plain": [
       "array([[[0., 0., 0.],\n",
       "        [0., 0., 0.],\n",
       "        [0., 0., 0.],\n",
       "        ...,\n",
       "        [0., 0., 0.],\n",
       "        [0., 0., 0.],\n",
       "        [0., 0., 0.]],\n",
       "\n",
       "       [[0., 0., 0.],\n",
       "        [0., 0., 0.],\n",
       "        [0., 0., 0.],\n",
       "        ...,\n",
       "        [0., 0., 0.],\n",
       "        [0., 0., 0.],\n",
       "        [0., 0., 0.]],\n",
       "\n",
       "       [[0., 0., 0.],\n",
       "        [0., 0., 0.],\n",
       "        [0., 0., 0.],\n",
       "        ...,\n",
       "        [0., 0., 0.],\n",
       "        [0., 0., 0.],\n",
       "        [0., 0., 0.]],\n",
       "\n",
       "       ...,\n",
       "\n",
       "       [[0., 0., 0.],\n",
       "        [0., 0., 0.],\n",
       "        [0., 0., 0.],\n",
       "        ...,\n",
       "        [0., 0., 0.],\n",
       "        [0., 0., 0.],\n",
       "        [0., 0., 0.]],\n",
       "\n",
       "       [[0., 0., 0.],\n",
       "        [0., 0., 0.],\n",
       "        [0., 0., 0.],\n",
       "        ...,\n",
       "        [0., 0., 0.],\n",
       "        [0., 0., 0.],\n",
       "        [0., 0., 0.]],\n",
       "\n",
       "       [[0., 0., 0.],\n",
       "        [0., 0., 0.],\n",
       "        [0., 0., 0.],\n",
       "        ...,\n",
       "        [0., 0., 0.],\n",
       "        [0., 0., 0.],\n",
       "        [0., 0., 0.]]], dtype=float32)"
      ]
     },
     "execution_count": 31,
     "metadata": {},
     "output_type": "execute_result"
    }
   ],
   "source": [
    "x=image.img_to_array(img)\n",
    "x"
   ]
  },
  {
   "cell_type": "code",
   "execution_count": 32,
   "metadata": {},
   "outputs": [
    {
     "data": {
      "text/plain": [
       "(224, 224, 3)"
      ]
     },
     "execution_count": 32,
     "metadata": {},
     "output_type": "execute_result"
    }
   ],
   "source": [
    "x.shape"
   ]
  },
  {
   "cell_type": "code",
   "execution_count": 33,
   "metadata": {},
   "outputs": [],
   "source": [
    "x=x/255"
   ]
  },
  {
   "cell_type": "code",
   "execution_count": 34,
   "metadata": {},
   "outputs": [
    {
     "data": {
      "text/plain": [
       "(1, 224, 224, 3)"
      ]
     },
     "execution_count": 34,
     "metadata": {},
     "output_type": "execute_result"
    }
   ],
   "source": [
    "x=np.expand_dims(x,axis=0)\n",
    "img_data=preprocess_input(x)\n",
    "img_data.shape"
   ]
  },
  {
   "cell_type": "code",
   "execution_count": 35,
   "metadata": {},
   "outputs": [
    {
     "name": "stdout",
     "output_type": "stream",
     "text": [
      "1/1 [==============================] - 0s 63ms/step\n"
     ]
    },
    {
     "data": {
      "text/plain": [
       "array([[1., 0.]], dtype=float32)"
      ]
     },
     "execution_count": 35,
     "metadata": {},
     "output_type": "execute_result"
    }
   ],
   "source": [
    "model.predict(img_data)"
   ]
  },
  {
   "cell_type": "code",
   "execution_count": 36,
   "metadata": {},
   "outputs": [
    {
     "name": "stdout",
     "output_type": "stream",
     "text": [
      "1/1 [==============================] - 0s 21ms/step\n"
     ]
    }
   ],
   "source": [
    "a=np.argmax(model.predict(img_data), axis=1)"
   ]
  },
  {
   "cell_type": "code",
   "execution_count": 37,
   "metadata": {},
   "outputs": [
    {
     "name": "stdout",
     "output_type": "stream",
     "text": [
      "Infected\n"
     ]
    }
   ],
   "source": [
    "if(a==1):\n",
    "    print(\"Uninfected\")\n",
    "else:\n",
    "    print(\"Infected\")"
   ]
  }
 ],
 "metadata": {
  "kernelspec": {
   "display_name": "Python 3 (ipykernel)",
   "language": "python",
   "name": "python3"
  },
  "language_info": {
   "codemirror_mode": {
    "name": "ipython",
    "version": 3
   },
   "file_extension": ".py",
   "mimetype": "text/x-python",
   "name": "python",
   "nbconvert_exporter": "python",
   "pygments_lexer": "ipython3",
   "version": "3.11.5"
  }
 },
 "nbformat": 4,
 "nbformat_minor": 2
}
